{
 "cells": [
  {
   "cell_type": "code",
   "execution_count": 3,
   "id": "09beba66",
   "metadata": {},
   "outputs": [],
   "source": [
    "#Write a Python program to reverse a string.\n",
    "\n",
    "\n",
    "\n",
    "#Sample String : \"1234abcd\"\n",
    "\n",
    "#Expected Output : \"dcba4321\"\n",
    "\n",
    "\n",
    "def Reverse():\n",
    "    \n",
    "    R=input()\n",
    "    Q= list(R)\n",
    "    Q.reverse()\n",
    "    print(\"\".join(Q)) \n"
   ]
  },
  {
   "cell_type": "code",
   "execution_count": 4,
   "id": "304b3b2a",
   "metadata": {},
   "outputs": [
    {
     "name": "stdout",
     "output_type": "stream",
     "text": [
      "\"1234abcd\"\n",
      "\"dcba4321\"\n"
     ]
    }
   ],
   "source": [
    "Reverse()"
   ]
  },
  {
   "cell_type": "code",
   "execution_count": null,
   "id": "9f05a134",
   "metadata": {},
   "outputs": [],
   "source": []
  }
 ],
 "metadata": {
  "kernelspec": {
   "display_name": "Python 3 (ipykernel)",
   "language": "python",
   "name": "python3"
  },
  "language_info": {
   "codemirror_mode": {
    "name": "ipython",
    "version": 3
   },
   "file_extension": ".py",
   "mimetype": "text/x-python",
   "name": "python",
   "nbconvert_exporter": "python",
   "pygments_lexer": "ipython3",
   "version": "3.10.1"
  }
 },
 "nbformat": 4,
 "nbformat_minor": 5
}
